{
  "nbformat": 4,
  "nbformat_minor": 0,
  "metadata": {
    "colab": {
      "name": "week11王耀霆.ipynb",
      "provenance": [],
      "authorship_tag": "ABX9TyMQX7ScRu25A+zH5QHgydX9",
      "include_colab_link": true
    },
    "kernelspec": {
      "name": "python3",
      "display_name": "Python 3"
    }
  },
  "cells": [
    {
      "cell_type": "markdown",
      "metadata": {
        "id": "view-in-github",
        "colab_type": "text"
      },
      "source": [
        "<a href=\"https://colab.research.google.com/github/yaotingwang/Computational-Thinking/blob/master/week11%E7%8E%8B%E8%80%80%E9%9C%86.ipynb\" target=\"_parent\"><img src=\"https://colab.research.google.com/assets/colab-badge.svg\" alt=\"Open In Colab\"/></a>"
      ]
    },
    {
      "cell_type": "code",
      "metadata": {
        "id": "4kG77193raK1"
      },
      "source": [
        "# 商數餘數\n",
        "## input\n",
        "seat = int(input(\"Enter a seat number? \"))\n",
        "## Process\n",
        "group = (seat - 1) // 5 + 1\n",
        "## Output\n",
        "print(\"Group is\", group)"
      ],
      "execution_count": null,
      "outputs": []
    },
    {
      "cell_type": "code",
      "metadata": {
        "id": "FkWjXA8areEV"
      },
      "source": [
        "# 四捨五入 無條件進位\n",
        "## Input\n",
        "seat = int(input(\"Enter a seat number? \"))\n",
        "\n",
        "## Process\n",
        "import math\n",
        "group = math.ceil(seat/5)\n",
        "\n",
        "## Output\n",
        "print(\"Group is\", group)"
      ],
      "execution_count": null,
      "outputs": []
    },
    {
      "cell_type": "code",
      "metadata": {
        "id": "X0KAySHLrgO1"
      },
      "source": [
        "#看餘數 , 用條件句\n",
        "number = int(input(\"Enter seat number? \"))\n",
        "if number%5 == 0: \n",
        "    print(\"Group is\",number//5)\n",
        "else:\n",
        "    print(\"Group is\", number//5 + 1)"
      ],
      "execution_count": null,
      "outputs": []
    },
    {
      "cell_type": "code",
      "metadata": {
        "colab": {
          "base_uri": "https://localhost:8080/"
        },
        "id": "K2UmU-bRnK2u",
        "outputId": "80628b06-d456-47f1-9f89-7f6208ed762a"
      },
      "source": [
        "# 聊天機器人自我介紹\n",
        "print(\"哈囉,大家好。我叫Zyxo64,是一個聊天機器人。\")\n",
        "hobby = \"我很喜歡美食東西,也喜歡養動物。今天很高興有機會來到世新大學,請大家多多指教。\"\n",
        "print( hobby )\n",
        "# 打招呼,取得對方名字\n",
        "name = input(\"嗨!妳好,請問大名?: \")\n",
        "print(\"我叫\", name)\n",
        "print(\"你好\", name, \"很高興認識你\")"
      ],
      "execution_count": 7,
      "outputs": [
        {
          "output_type": "stream",
          "text": [
            "哈囉,大家好。我叫Zyxo64,是一個聊天機器人。\n",
            "我很喜歡美食東西,也喜歡養動物。今天很高興有機會來到世新大學,請大家多多指教。\n",
            "嗨!妳好,請問大名?: tim\n",
            "我叫 tim\n",
            "你好 tim 很高興認識你\n"
          ],
          "name": "stdout"
        }
      ]
    },
    {
      "cell_type": "code",
      "metadata": {
        "colab": {
          "base_uri": "https://localhost:8080/"
        },
        "id": "PK9hh1S7qY98",
        "outputId": "f1f0baba-7c65-4bab-98bd-a7942d7fc1e4"
      },
      "source": [
        "# 食物話題\n",
        "print(\"我喜歡巧克力,也喜歡嘗試各種新食物。\")\n",
        "food = input(\"你呢。你最喜歡的食物是什麼?: \")\n",
        "print(\"我也喜歡\", food)\n",
        "question = \"你多久吃一次\" + food + \"?: \"\n",
        "howoften = input(question)\n",
        "print(\"真有趣。不知道這樣對健康好不好!\")\n"
      ],
      "execution_count": null,
      "outputs": [
        {
          "output_type": "stream",
          "text": [
            "我喜歡巧克力,也喜歡嘗試各種新食物。\n",
            "你呢。你最喜歡的食物是什麼?: chocolate\n",
            "我也喜歡 chocolate\n",
            "你多久吃一次chocolate?: 3\n",
            "真有趣。不知道這樣對健康好不好!\n"
          ],
          "name": "stdout"
        }
      ]
    },
    {
      "cell_type": "code",
      "metadata": {
        "colab": {
          "base_uri": "https://localhost:8080/"
        },
        "id": "xGapDcnGqlPG",
        "outputId": "1e76e4dd-8b8b-4298-fd39-26933456f748"
      },
      "source": [
        "# 動物話題\n",
        "animal = input(\"我最喜歡的動物是長頸鹿。你呢?; \")\n",
        "print(\"我不喜歡\" ,animal)\n",
        "print(\"不知道\", animal, \"喜不喜歡吃\", food, \"?\")\n"
      ],
      "execution_count": 8,
      "outputs": [
        {
          "output_type": "stream",
          "text": [
            "我最喜歡的動物是長頸鹿。你呢?; cat\n",
            "我不喜歡 cat\n",
            "不知道 cat 喜不喜歡吃 chocolate ?\n"
          ],
          "name": "stdout"
        }
      ]
    },
    {
      "cell_type": "code",
      "metadata": {
        "colab": {
          "base_uri": "https://localhost:8080/"
        },
        "id": "GTM5q_9rp8Uz",
        "outputId": "78c58677-66a4-4f5a-9c97-02b375960207"
      },
      "source": [
        "# 從使用者取得今年年份\n",
        "year = input(\"請問一下今年是西元2020年,那是民國幾年呢? \")\n",
        "print(\"對!應該沒錯,謝謝妳!\")\n",
        "# 請使用者猜年齡\n",
        "myage = int(input(\"再猜猜看我今年幾歲? \"))\n",
        "print(\"哇!你好聰明,我今年的確\", myage)\n",
        "# 計算聊天機器人滿100歲的年份\n",
        "nyears = 100 - myage\n",
        "print(\"我再\", nyears, \"年就滿100歲了。\")\n",
        "print(\"到時候是西元\", int(year) + nyears + 1911, \"年\") # 將今年年份轉換為整數"
      ],
      "execution_count": null,
      "outputs": [
        {
          "output_type": "stream",
          "text": [
            "請問一下今年是西元2020年,那是民國幾年呢? 109\n",
            "對!應該沒錯,謝謝妳!\n",
            "再猜猜看我今年幾歲? 20\n",
            "哇!你好聰明,我今年的確 20\n",
            "我再 80 年就滿100歲了。\n",
            "到時候是西元 2100 年\n"
          ],
          "name": "stdout"
        }
      ]
    }
  ]
}
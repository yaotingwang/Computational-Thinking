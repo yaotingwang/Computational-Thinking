{
  "nbformat": 4,
  "nbformat_minor": 0,
  "metadata": {
    "colab": {
      "name": "Untitled2-1王耀霆.ipynb",
      "provenance": [],
      "authorship_tag": "ABX9TyPzWduaxmt7uoU13ygVKn65",
      "include_colab_link": true
    },
    "kernelspec": {
      "name": "python3",
      "display_name": "Python 3"
    }
  },
  "cells": [
    {
      "cell_type": "markdown",
      "metadata": {
        "id": "view-in-github",
        "colab_type": "text"
      },
      "source": [
        "<a href=\"https://colab.research.google.com/github/yaotingwang/Computational-Thinking/blob/master/Untitled2-1%E7%8E%8B%E8%80%80%E9%9C%86.ipynb\" target=\"_parent\"><img src=\"https://colab.research.google.com/assets/colab-badge.svg\" alt=\"Open In Colab\"/></a>"
      ]
    },
    {
      "cell_type": "code",
      "metadata": {
        "colab": {
          "base_uri": "https://localhost:8080/"
        },
        "id": "19ivgsm6fR43",
        "outputId": "10a32cbc-b4f1-4200-a9c0-039c858f151c"
      },
      "source": [
        "time = 250\n",
        "hour = time // 60 # 商數\n",
        "minute = time % 60 # 餘數\n",
        "\n",
        "print(time, \"是\", hour, \"小時\", minute, \"分鐘\")\n",
        "\n",
        "hour1 = int (time / 60)\n",
        "minute1 = ((time / 60) - hour1) * 60\n",
        "minute1 = round(minute1)\n",
        "print(time, \"是\", hour1, \"小時\", minute1, \"分鐘\")"
      ],
      "execution_count": 11,
      "outputs": [
        {
          "output_type": "stream",
          "text": [
            "250 是 4 小時 10 分鐘\n",
            "250 是 4 小時 10 分鐘\n"
          ],
          "name": "stdout"
        }
      ]
    },
    {
      "cell_type": "code",
      "metadata": {
        "id": "Tir4-sfRjDF_"
      },
      "source": [
        ""
      ],
      "execution_count": null,
      "outputs": []
    }
  ]
}
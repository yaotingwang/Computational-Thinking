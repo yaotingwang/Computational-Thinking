{
  "nbformat": 4,
  "nbformat_minor": 0,
  "metadata": {
    "colab": {
      "name": "Untitled1.ipynb",
      "provenance": [],
      "authorship_tag": "ABX9TyOzVQeDnomnND3hZ3u2QkMQ",
      "include_colab_link": true
    },
    "kernelspec": {
      "name": "python3",
      "display_name": "Python 3"
    }
  },
  "cells": [
    {
      "cell_type": "markdown",
      "metadata": {
        "id": "view-in-github",
        "colab_type": "text"
      },
      "source": [
        "<a href=\"https://colab.research.google.com/github/yaotingwang/Computational-Thinking/blob/master/week15.ipynb\" target=\"_parent\"><img src=\"https://colab.research.google.com/assets/colab-badge.svg\" alt=\"Open In Colab\"/></a>"
      ]
    },
    {
      "cell_type": "code",
      "metadata": {
        "id": "MoUec4-LX54N"
      },
      "source": [
        "import turtle\r\n",
        "shelly = turtle.Turtle()\r\n",
        "turtle.bgcolor(\"black\")\r\n",
        "for n in range(5)\r\n",
        "  colors = [\"red\",\"green\",\"blue\",\"purple\",\"yellow\"]\r\n",
        "  shelly.color(colors[n])\r\n",
        "  for i in range(4):\r\n",
        "    shelly.forward(25)\r\n",
        "    shelly.lest(90)\r\n",
        "    shelly.penup()\r\n",
        "    shelly.forward(30)\r\n",
        "    shelly.pendown()\r\n",
        "    shelly.hideturtle()\r\n"
      ],
      "execution_count": null,
      "outputs": []
    }
  ]
}
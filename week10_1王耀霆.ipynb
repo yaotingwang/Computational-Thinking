{
  "nbformat": 4,
  "nbformat_minor": 0,
  "metadata": {
    "colab": {
      "name": "week10-1王耀霆.ipynb",
      "provenance": [],
      "collapsed_sections": [],
      "authorship_tag": "ABX9TyMeExqJsWMSoLln7jRe3Hy4",
      "include_colab_link": true
    },
    "kernelspec": {
      "name": "python3",
      "display_name": "Python 3"
    }
  },
  "cells": [
    {
      "cell_type": "markdown",
      "metadata": {
        "id": "view-in-github",
        "colab_type": "text"
      },
      "source": [
        "<a href=\"https://colab.research.google.com/github/yaotingwang/Computational-Thinking/blob/master/week10_1%E7%8E%8B%E8%80%80%E9%9C%86.ipynb\" target=\"_parent\"><img src=\"https://colab.research.google.com/assets/colab-badge.svg\" alt=\"Open In Colab\"/></a>"
      ]
    },
    {
      "cell_type": "code",
      "metadata": {
        "colab": {
          "base_uri": "https://localhost:8080/"
        },
        "id": "Q3Hg4FweRr_M",
        "outputId": "29900a13-f8ab-4951-aade-eed830d41acb"
      },
      "source": [
        "movie_title = \"money ball\"\n",
        "release_year = '2011'\n",
        "Director = \" Bennett Miller\"\n",
        "Writers = \" Steven Zaillian (screenplay), Aaron Sorkin (screenplay)\"\n",
        "Stars = \" Brad Pitt, Robin Wright, Jonah Hill\"\n",
        "\n",
        "print(\"電腦英文名稱\",movie_title)\n",
        "print(\"上映時間\",release_year)\n",
        "print(\"導演\",Director)\n",
        "print(\"作者\",Writers)\n",
        "print(\"明星\",Stars )\n"
      ],
      "execution_count": 7,
      "outputs": [
        {
          "output_type": "stream",
          "text": [
            "電腦英文名稱 money ball\n",
            "上映時間 2011\n",
            "導演  Bennett Miller\n",
            "作者  Steven Zaillian (screenplay), Aaron Sorkin (screenplay)\n",
            "明星  Brad Pitt, Robin Wright, Jonah Hill\n"
          ],
          "name": "stdout"
        }
      ]
    }
  ]
}
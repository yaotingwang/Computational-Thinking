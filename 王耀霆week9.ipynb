{
  "nbformat": 4,
  "nbformat_minor": 0,
  "metadata": {
    "colab": {
      "name": "王耀霆week9",
      "provenance": [],
      "authorship_tag": "ABX9TyOGic5NWjTIW6la+ORZ89w/",
      "include_colab_link": true
    },
    "kernelspec": {
      "name": "python3",
      "display_name": "Python 3"
    }
  },
  "cells": [
    {
      "cell_type": "markdown",
      "metadata": {
        "id": "view-in-github",
        "colab_type": "text"
      },
      "source": [
        "<a href=\"https://colab.research.google.com/github/yaotingwang/Computational-Thinking/blob/master/%E7%8E%8B%E8%80%80%E9%9C%86week9.ipynb\" target=\"_parent\"><img src=\"https://colab.research.google.com/assets/colab-badge.svg\" alt=\"Open In Colab\"/></a>"
      ]
    },
    {
      "cell_type": "code",
      "metadata": {
        "id": "iSq5nTtvO6mF",
        "outputId": "61c5d60b-21b5-4dd7-fa5e-cb2be37b0f12",
        "colab": {
          "base_uri": "https://localhost:8080/"
        }
      },
      "source": [
        "x = 2\n",
        "y = 5\n",
        "print(x + y)\n",
        "print(x - y)\n",
        "print(x * y)\n",
        "print(x / y)\n",
        "print(x // y)\n",
        "print(x % y)\n",
        "print(x ** y)\n"
      ],
      "execution_count": 1,
      "outputs": [
        {
          "output_type": "stream",
          "text": [
            "7\n",
            "-3\n",
            "10\n",
            "0.4\n",
            "0\n",
            "2\n",
            "32\n"
          ],
          "name": "stdout"
        }
      ]
    },
    {
      "cell_type": "code",
      "metadata": {
        "id": "Dj1vN6dkZh3h",
        "outputId": "a0cdaab4-0038-43d4-a448-6adf80fd5aee",
        "colab": {
          "base_uri": "https://localhost:8080/",
          "height": 52
        }
      },
      "source": [
        "input()\n",
        "\n"
      ],
      "execution_count": 2,
      "outputs": [
        {
          "output_type": "stream",
          "text": [
            "3\n"
          ],
          "name": "stdout"
        },
        {
          "output_type": "execute_result",
          "data": {
            "application/vnd.google.colaboratory.intrinsic+json": {
              "type": "string"
            },
            "text/plain": [
              "'3'"
            ]
          },
          "metadata": {
            "tags": []
          },
          "execution_count": 2
        }
      ]
    },
    {
      "cell_type": "code",
      "metadata": {
        "id": "hpgRFQ3LaFFn",
        "outputId": "c121c72b-72e4-4c36-fc2c-1aec686508f8",
        "colab": {
          "base_uri": "https://localhost:8080/"
        }
      },
      "source": [
        "x = input(\"請輸入數字? \")"
      ],
      "execution_count": 6,
      "outputs": [
        {
          "output_type": "stream",
          "text": [
            "請輸入數字? 3\n"
          ],
          "name": "stdout"
        }
      ]
    },
    {
      "cell_type": "code",
      "metadata": {
        "id": "xaibYdeQa0Iq",
        "outputId": "d5078ef2-6dff-4626-a0ed-5cbe063f29df",
        "colab": {
          "base_uri": "https://localhost:8080/",
          "height": 35
        }
      },
      "source": [
        "x"
      ],
      "execution_count": 7,
      "outputs": [
        {
          "output_type": "execute_result",
          "data": {
            "application/vnd.google.colaboratory.intrinsic+json": {
              "type": "string"
            },
            "text/plain": [
              "'3'"
            ]
          },
          "metadata": {
            "tags": []
          },
          "execution_count": 7
        }
      ]
    },
    {
      "cell_type": "code",
      "metadata": {
        "id": "7Z0KT67AbPT-",
        "outputId": "b775772e-d3cd-41a2-8632-41a02b58d8c5",
        "colab": {
          "base_uri": "https://localhost:8080/"
        }
      },
      "source": [
        "print(x)"
      ],
      "execution_count": 9,
      "outputs": [
        {
          "output_type": "stream",
          "text": [
            "3\n"
          ],
          "name": "stdout"
        }
      ]
    },
    {
      "cell_type": "code",
      "metadata": {
        "id": "xNTwo0Zubr36",
        "outputId": "61047788-fbf9-4e7c-98b8-ce2875a88f86",
        "colab": {
          "base_uri": "https://localhost:8080/"
        }
      },
      "source": [
        "print(x, 2, \"python\")"
      ],
      "execution_count": 10,
      "outputs": [
        {
          "output_type": "stream",
          "text": [
            "3 2 python\n"
          ],
          "name": "stdout"
        }
      ]
    },
    {
      "cell_type": "code",
      "metadata": {
        "id": "SunMM7nsdrF4",
        "outputId": "b07f3fa7-e23d-464c-b32a-5d0cc3fc0d08",
        "colab": {
          "base_uri": "https://localhost:8080/"
        }
      },
      "source": [
        "x = input(\"請輸入上衣的數量?\" )"
      ],
      "execution_count": 12,
      "outputs": [
        {
          "output_type": "stream",
          "text": [
            "請輸入上衣的數量?5\n"
          ],
          "name": "stdout"
        }
      ]
    },
    {
      "cell_type": "code",
      "metadata": {
        "id": "mASQHHrfd3Ry"
      },
      "source": [
        "x = int(x)"
      ],
      "execution_count": 15,
      "outputs": []
    },
    {
      "cell_type": "code",
      "metadata": {
        "id": "gBFoh4q1d8kX"
      },
      "source": [
        "Total = 300 * x"
      ],
      "execution_count": 19,
      "outputs": []
    },
    {
      "cell_type": "code",
      "metadata": {
        "id": "Vt-a64b4eUlM",
        "outputId": "bbf911bf-6f42-4fa6-cc7e-6e46dbcd07ba",
        "colab": {
          "base_uri": "https://localhost:8080/"
        }
      },
      "source": [
        "print(Total)"
      ],
      "execution_count": 18,
      "outputs": [
        {
          "output_type": "stream",
          "text": [
            "1500\n"
          ],
          "name": "stdout"
        }
      ]
    },
    {
      "cell_type": "code",
      "metadata": {
        "id": "aYY58jqkeKmB",
        "outputId": "b7ed855e-b1c3-40b6-8af4-104ef072d9c7",
        "colab": {
          "base_uri": "https://localhost:8080/"
        }
      },
      "source": [
        "X = int(input(\"請輸入上衣的數量? \"))\n",
        "Y = int(input(\"請輸入褲子的數量? \"))\n",
        "Z = int(input(\"請輸入背心的數量? \"))\n",
        "\n",
        "Total = 300*X + 350*Y + 400*Z\n",
        "\n",
        "print(\"訂購服裝的總金額為\", Total)"
      ],
      "execution_count": 24,
      "outputs": [
        {
          "output_type": "stream",
          "text": [
            "請輸入上衣的數量? 200\n",
            "請輸入褲子的數量? 300\n",
            "請輸入背心的數量? 400\n",
            "訂購服裝的總金額為 325000\n"
          ],
          "name": "stdout"
        }
      ]
    },
    {
      "cell_type": "code",
      "metadata": {
        "id": "xtxnEJYqgh0r",
        "outputId": "e4c6fb40-0f93-4fe5-8917-2821f9588196",
        "colab": {
          "base_uri": "https://localhost:8080/"
        }
      },
      "source": [
        "Cans = int(input(\"請輸入購買的飲料罐數?\"))\n",
        "Total = (Cans//12)*200 + (Cans%12)*20\n",
        "print (\"需花費\",Total)"
      ],
      "execution_count": 25,
      "outputs": [
        {
          "output_type": "stream",
          "text": [
            "請輸入購買的飲料罐數?30\n",
            "需花費 520\n"
          ],
          "name": "stdout"
        }
      ]
    },
    {
      "cell_type": "code",
      "metadata": {
        "id": "qiQ9848ChtJl",
        "outputId": "7743b039-ae63-4c1c-e2b2-0315115358f6",
        "colab": {
          "base_uri": "https://localhost:8080/"
        }
      },
      "source": [
        "first = int(input(\"請輸入第一次期中考成績? \"))\n",
        "second = int(input(\"請輸入第二次期中考成績? \"))\n",
        "final = int(input(\"請輸入期末考成績? \"))\n",
        "total = first + second + final\n",
        "average = total / 3\n",
        "print(\"總分為\", total, \"平均為\", average)"
      ],
      "execution_count": 26,
      "outputs": [
        {
          "output_type": "stream",
          "text": [
            "請輸入第一次期中考成績? 20\n",
            "請輸入第二次期中考成績? 30\n",
            "請輸入期末考成績? 40\n",
            "總分為 90 平均為 30.0\n"
          ],
          "name": "stdout"
        }
      ]
    }
  ]
}
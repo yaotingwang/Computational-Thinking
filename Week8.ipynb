{
  "nbformat": 4,
  "nbformat_minor": 0,
  "metadata": {
    "colab": {
      "name": "Week8.ipynb",
      "provenance": [],
      "authorship_tag": "ABX9TyPp3eujK6OonqRmHv3fc2vE",
      "include_colab_link": true
    },
    "kernelspec": {
      "name": "python3",
      "display_name": "Python 3"
    }
  },
  "cells": [
    {
      "cell_type": "markdown",
      "metadata": {
        "id": "view-in-github",
        "colab_type": "text"
      },
      "source": [
        "<a href=\"https://colab.research.google.com/github/yaotingwang/Computational-Thinking/blob/master/Week8.ipynb\" target=\"_parent\"><img src=\"https://colab.research.google.com/assets/colab-badge.svg\" alt=\"Open In Colab\"/></a>"
      ]
    },
    {
      "cell_type": "code",
      "metadata": {
        "id": "1Loa4swgZWsF",
        "outputId": "49d9e00b-9357-4986-c0fd-3290fb1a714e",
        "colab": {
          "base_uri": "https://localhost:8080/",
          "height": 131
        }
      },
      "source": [
        "Hi,My name is Tim and I am 18 years old\n",
        "print(\"Hello,My name is Tim\")\n",
        "name=\"Tim\"\n",
        "age=18\n",
        "print(f\"Hi,My name is {name} amd I am {age} years old!\")"
      ],
      "execution_count": 5,
      "outputs": [
        {
          "output_type": "error",
          "ename": "SyntaxError",
          "evalue": "ignored",
          "traceback": [
            "\u001b[0;36m  File \u001b[0;32m\"<ipython-input-5-b4f028ed7b83>\"\u001b[0;36m, line \u001b[0;32m1\u001b[0m\n\u001b[0;31m    Hi,My name is Tim and I am 18 years old\u001b[0m\n\u001b[0m             ^\u001b[0m\n\u001b[0;31mSyntaxError\u001b[0m\u001b[0;31m:\u001b[0m invalid syntax\n"
          ]
        }
      ]
    },
    {
      "cell_type": "markdown",
      "metadata": {
        "id": "7RD0474bbe4-"
      },
      "source": [
        "習題1"
      ]
    },
    {
      "cell_type": "code",
      "metadata": {
        "id": "xH9QYYPxcQld",
        "outputId": "7a370e73-5bbc-4887-bd93-96daa727a505",
        "colab": {
          "base_uri": "https://localhost:8080/"
        }
      },
      "source": [
        "cloth = int(input(\"請輸入上衣數量?\"))\n",
        "trousers = int(input(\"請輸入褲子數量?\"))\n",
        "vest = int(input(\"請輸入背心數量?\"))\n",
        "\n",
        "total = cloth*3000 + trousers*500 + vest*400\n",
        " \n",
        "print(\"訂購服裝的總金額為\",total)"
      ],
      "execution_count": 8,
      "outputs": [
        {
          "output_type": "stream",
          "text": [
            "請輸入上衣數量?3000\n",
            "請輸入褲子數量?500\n",
            "請輸入背心數量?400\n",
            "訂購服裝的總金額為 9410000\n"
          ],
          "name": "stdout"
        }
      ]
    },
    {
      "cell_type": "markdown",
      "metadata": {
        "id": "U5z7PSf7hDGn"
      },
      "source": [
        "習題2"
      ]
    },
    {
      "cell_type": "code",
      "metadata": {
        "id": "eW2g8ihEhGUE",
        "outputId": "a494b7b4-e0d2-48f7-808a-d029def972e6",
        "colab": {
          "base_uri": "https://localhost:8080/"
        }
      },
      "source": [
        "cans = int(input(\"請輸入購買飲料的罐數?\"))\n",
        "\n",
        "total = (cans//12)*200 + (cans%12)*20\n",
        "\n",
        "print('需花費' , total)\n"
      ],
      "execution_count": 11,
      "outputs": [
        {
          "output_type": "stream",
          "text": [
            "請輸入購買飲料的罐數?500\n",
            "需花費 8360\n"
          ],
          "name": "stdout"
        }
      ]
    },
    {
      "cell_type": "markdown",
      "metadata": {
        "id": "4kUTkKa4iC7e"
      },
      "source": [
        "習題3"
      ]
    },
    {
      "cell_type": "code",
      "metadata": {
        "id": "rHeIablKiFB0",
        "outputId": "694cc95f-9c91-446f-98c1-1ddefd8035bd",
        "colab": {
          "base_uri": "https://localhost:8080/"
        }
      },
      "source": [
        "fir =int(input('請輸入第一次期中考成績?'))\n",
        "sec =int(input('請輸入第二次期中考成績?'))\n",
        "final =int(input('請輸入期末考成績?')) \n",
        "\n",
        "total=fir+sec+final \n",
        "print('總成績' , total)\n",
        "print('平均' , total/3) "
      ],
      "execution_count": 25,
      "outputs": [
        {
          "output_type": "stream",
          "text": [
            "請輸入第一次期中考成績?20\n",
            "請輸入第二次期中考成績?20\n",
            "請輸入期末考成績?20\n",
            "總成績 60\n",
            "平均 20.0\n"
          ],
          "name": "stdout"
        }
      ]
    },
    {
      "cell_type": "markdown",
      "metadata": {
        "id": "A6abrkFhcxVO"
      },
      "source": [
        "#和人互動打招呼\n",
        "\n",
        "#input \n",
        "\n",
        "name=input(\"請問貴姓大名?\")\n",
        "\n",
        "#process\n",
        "\n",
        "##\n",
        "#output\n",
        "\n"
      ]
    }
  ]
}
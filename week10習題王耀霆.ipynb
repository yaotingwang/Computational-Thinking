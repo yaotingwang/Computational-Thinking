{
  "nbformat": 4,
  "nbformat_minor": 0,
  "metadata": {
    "colab": {
      "name": "week10習題.ipynb",
      "provenance": [],
      "authorship_tag": "ABX9TyPLnIUJi5bz5Zh37Otco4bC",
      "include_colab_link": true
    },
    "kernelspec": {
      "name": "python3",
      "display_name": "Python 3"
    }
  },
  "cells": [
    {
      "cell_type": "markdown",
      "metadata": {
        "id": "view-in-github",
        "colab_type": "text"
      },
      "source": [
        "<a href=\"https://colab.research.google.com/github/yaotingwang/Computational-Thinking/blob/master/week10%E7%BF%92%E9%A1%8C%E7%8E%8B%E8%80%80%E9%9C%86.ipynb\" target=\"_parent\"><img src=\"https://colab.research.google.com/assets/colab-badge.svg\" alt=\"Open In Colab\"/></a>"
      ]
    },
    {
      "cell_type": "code",
      "metadata": {
        "colab": {
          "base_uri": "https://localhost:8080/"
        },
        "id": "ErSIm4tVvBca",
        "outputId": "04796cd5-46b2-443a-dde3-111b85ce37de"
      },
      "source": [
        "number = int(input(\"請輸入你的座號\"))\n",
        "group=number/5\n",
        "import math\n",
        "group = math.ceil(number/5)\n",
        "print(\"座號是\", number, \"是第\", group, \"組\")"
      ],
      "execution_count": 3,
      "outputs": [
        {
          "output_type": "stream",
          "text": [
            "請輸入你的座號23\n",
            "座號是 23 是第 5 組\n"
          ],
          "name": "stdout"
        }
      ]
    }
  ]
}
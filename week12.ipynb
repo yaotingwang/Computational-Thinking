{
  "nbformat": 4,
  "nbformat_minor": 0,
  "metadata": {
    "colab": {
      "name": "Untitled3.ipynb",
      "provenance": [],
      "authorship_tag": "ABX9TyP+PY1PdBdH/exGTlcmP5GG",
      "include_colab_link": true
    },
    "kernelspec": {
      "name": "python3",
      "display_name": "Python 3"
    }
  },
  "cells": [
    {
      "cell_type": "markdown",
      "metadata": {
        "id": "view-in-github",
        "colab_type": "text"
      },
      "source": [
        "<a href=\"https://colab.research.google.com/github/yaotingwang/Computational-Thinking/blob/master/week12.ipynb\" target=\"_parent\"><img src=\"https://colab.research.google.com/assets/colab-badge.svg\" alt=\"Open In Colab\"/></a>"
      ]
    },
    {
      "cell_type": "markdown",
      "metadata": {
        "id": "vNvROL3tidmx"
      },
      "source": [
        "隨堂練習1\n"
      ]
    },
    {
      "cell_type": "code",
      "metadata": {
        "colab": {
          "base_uri": "https://localhost:8080/"
        },
        "id": "wh1cM_CxgxqV",
        "outputId": "1e77b1e5-34f3-40d4-befd-5c14bc9a0cec"
      },
      "source": [
        "shopping_list = [\"橘子\",\"柳丁\",\"椪柑\",\"西瓜\",\"牛奶\"]\n",
        "print (shopping_list)\n",
        "list5 = [\"橘子\",\"柳丁\",\"椪柑\",\"西瓜\",\"牛奶\"]\n",
        "print(list5[0])\n",
        "list5[1] = \"綠茶\"\n",
        "print(list5)"
      ],
      "execution_count": 11,
      "outputs": [
        {
          "output_type": "stream",
          "text": [
            "['橘子', '柳丁', '椪柑', '西瓜', '牛奶']\n",
            "橘子\n",
            "['橘子', '綠茶', '椪柑', '西瓜', '牛奶']\n"
          ],
          "name": "stdout"
        }
      ]
    },
    {
      "cell_type": "markdown",
      "metadata": {
        "id": "NQov3PLnijj_"
      },
      "source": [
        "隨堂練習2\n"
      ]
    },
    {
      "cell_type": "code",
      "metadata": {
        "colab": {
          "base_uri": "https://localhost:8080/"
        },
        "id": "0o8z6Zc6ickM",
        "outputId": "c53f81ea-66ae-4ce4-80cf-7bb28e9ee4f0"
      },
      "source": [
        "season = \"1995-1996\"\n",
        "team = \"Chicago Bulls\"\n",
        "coach = \"Phil Jackson\"\n",
        "records = [72,10]\n",
        "starting = {\"Ron Harper\",\"Michael Jordan\",\"Scottie Pippen\",\"Dennis Rodman\",\"Luc Longley\"}\n",
        "champion = True\n",
        "best_NBA = list((season, team, coach, records, starting, champion))\n",
        "print(best_NBA)\n",
        "print(type(best_NBA))\n",
        "print(best_NBA[-2])\n",
        "print(best_NBA[0:3])"
      ],
      "execution_count": null,
      "outputs": [
        {
          "output_type": "stream",
          "text": [
            "['1995-1996', 'Chicago Bulls', 'Phil Jackson', [72, 10], {'Dennis Rodman', 'Michael Jordan', 'Ron Harper', 'Scottie Pippen', 'Luc Longley'}, True]\n",
            "<class 'list'>\n",
            "{'Dennis Rodman', 'Michael Jordan', 'Ron Harper', 'Scottie Pippen', 'Luc Longley'}\n",
            "['1995-1996', 'Chicago Bulls', 'Phil Jackson']\n"
          ],
          "name": "stdout"
        }
      ]
    },
    {
      "cell_type": "markdown",
      "metadata": {
        "id": "J1TZuBOfrAld"
      },
      "source": [
        "隨堂練習3"
      ]
    },
    {
      "cell_type": "code",
      "metadata": {
        "colab": {
          "base_uri": "https://localhost:8080/"
        },
        "id": "HAuou80brICY",
        "outputId": "a5bb8dc7-8e80-4a83-cf2c-6e3a5b198c63"
      },
      "source": [
        "a = range(5)\n",
        "print(a)\n",
        "range(0,5)\n",
        "print(a[0], a[1], a[2], a[3], a[4])\n",
        "b = range(2,6)\n",
        "print(b[0], b[1], b[2], b[3])\n",
        "c = range(2, 21, 6)\n",
        "print(c[0], c[1], c[2])\n",
        "d = range(10,3,-1)\n",
        "print(d[0], d[1], d[2], d[3])"
      ],
      "execution_count": 30,
      "outputs": [
        {
          "output_type": "stream",
          "text": [
            "range(0, 5)\n",
            "0 1 2 3 4\n",
            "2 3 4 5\n",
            "2 8 14\n",
            "10 9 8 7\n"
          ],
          "name": "stdout"
        }
      ]
    },
    {
      "cell_type": "markdown",
      "metadata": {
        "id": "H6nsPqnJumfz"
      },
      "source": [
        "作業"
      ]
    },
    {
      "cell_type": "code",
      "metadata": {
        "colab": {
          "base_uri": "https://localhost:8080/"
        },
        "id": "BhmyOZOsuogR",
        "outputId": "ff1d196d-47aa-4a07-ec9f-0af470a91e0b"
      },
      "source": [
        "project_title = [\"還沒決定好\"]\n",
        "name_list = [\"吳家俊\",\"邱俊彥\",\"王耀霆\"]\n",
        "print(name_list)\n",
        "print(number_list)\n",
        "number_list = [\"109260085\", \"109260083\", \"109260059\"]\n",
        "duty_list = [\"尚在決定\"]\n",
        "load_list = [\"分工比重\"]\n",
        "name_list3 = [\"吳家俊\",\"邱俊彥\",\"王耀霆\"]\n",
        "print(name_list3[0])\n",
        "number_list3 = [\"109260085\", \"109260083\", \"109260059\"]\n",
        "print(number_list3[0])\n",
        "duty_list1 = [\"尚在決定\"]\n",
        "print(duty_list1[0])\n",
        "\n"
      ],
      "execution_count": 40,
      "outputs": [
        {
          "output_type": "stream",
          "text": [
            "['吳家俊', '邱俊彥', '王耀霆']\n",
            "['109260085', '109260083', '109260059']\n",
            "吳家俊\n",
            "109260085\n",
            "尚在決定\n"
          ],
          "name": "stdout"
        }
      ]
    }
  ]
}